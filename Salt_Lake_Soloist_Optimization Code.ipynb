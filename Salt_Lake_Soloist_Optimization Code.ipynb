{
 "cells": [
  {
   "cell_type": "code",
   "execution_count": 116,
   "id": "140a2a24-64da-4a28-b776-f568f95fd4c4",
   "metadata": {
    "panel-layout": {
     "height": 0,
     "visible": true,
     "width": 100
    }
   },
   "outputs": [
    {
     "name": "stdout",
     "output_type": "stream",
     "text": [
      "Number of data points in file: 729\n"
     ]
    }
   ],
   "source": [
    "import json\n",
    "import networkx as nx\n",
    "import gurobipy as gp\n",
    "from gurobipy import GRB\n",
    "\n",
    "\n",
    "# Open and read the JSON file\n",
    "with open('Salt_Lake_Soloist.json', 'r') as file:\n",
    "    data = json.load(file)\n",
    "\n",
    "\n",
    "#Donor compatability dictionary. Referenced in the edge creation process\n",
    "donor_recipient_compatability = {'O': ['O', 'A', 'B', 'AB'], 'A': ['A', 'AB'], 'B':['B', 'AB'], 'AB':['AB']}\n",
    "\n",
    "\n",
    "#data is stored as a list (in []) per recipient/donor pair that are dictionary (key:value) and the donor value is a list ([])\n",
    "\n",
    "print('Number of data points in file:',len(data)) #gives total amount of objects in the JSON file"
   ]
  },
  {
   "cell_type": "code",
   "execution_count": 117,
   "id": "013a6b4b-e555-4c8c-a82c-f3db5f11d8e5",
   "metadata": {},
   "outputs": [
    {
     "name": "stdout",
     "output_type": "stream",
     "text": [
      "Number of compatible pairs: 181532\n"
     ]
    }
   ],
   "source": [
    "# Create a graph with nodes and edges\n",
    "G = nx.DiGraph()\n",
    "\n",
    "# Create nodes (starting points)\n",
    "counter = 0\n",
    "for element in data:\n",
    "    G.add_nodes_from([(counter, element)])\n",
    "    counter += 1\n",
    "\n",
    "# print('Number of Donors:',len(G.nodes))                               #Quick check for node creation.\n",
    "\n",
    "\n",
    "# Create edges (relations)\n",
    "for node in G.nodes:\n",
    "    donors = G.nodes[node]['Donor']                                     #separates donor info from the recipient info\n",
    "   \n",
    "    #print(donors)                                                      #Quick check for donor output\n",
    "    \n",
    "    for donor in donors:\n",
    "        for vertex in G.nodes:                                          #This loop is creating a new variable \"vertex\" from the set of G.nodes based on the conditions below. The vertex is the head of the directional arrow.\n",
    "            if node == vertex: \n",
    "                continue                                                #if the vertex is equal to the starting point (node), skip the code below and go to the next one(continue)\n",
    "            recipient = G.nodes[vertex]['Recipient']                    #grabs the recipient value of the vertex in question. This allows the next lines to check if the recipient is compatible with the donor.\n",
    "            if recipient in donor_recipient_compatability[donor]:       #if the recipient (vertex) is compatible with donor (node)\n",
    "                G.add_edge(node, vertex)                                #adds edge from donor (node) to recipient (vertex)\n",
    "                \n",
    "print('Number of compatible pairs:', len(G.edges)) #quick check for number of edges created. Output = 181532"
   ]
  },
  {
   "cell_type": "code",
   "execution_count": null,
   "id": "9e32ac83-0c34-4d00-8195-9517c784b53b",
   "metadata": {},
   "outputs": [],
   "source": [
    "# #<----------------------Graphing the data. Note extremely large data set that could take forever.-------------------------->\n",
    "\n",
    "# # Visualize the graph, for fun\n",
    "# import matplotlib.pyplot as plt\n",
    "\n",
    "# plt.figure(figsize=(50,50)) #increases the size of the figure\n",
    "# pos = nx.circular_layout(G)\n",
    "# nx.draw(G, pos, with_labels = True,node_size=10000, font_size=60)\n",
    "\n",
    "# plt.show()\n",
    "# #<----------------------Graphing the data. Not required with extremely large data set.-------------------------->"
   ]
  },
  {
   "cell_type": "code",
   "execution_count": 118,
   "id": "92393c72-ed4b-4dd4-83ed-15dbb642f505",
   "metadata": {},
   "outputs": [
    {
     "name": "stdout",
     "output_type": "stream",
     "text": [
      "Total cycles of length 2: 34221\n"
     ]
    }
   ],
   "source": [
    "# Finding cycles of length 2\n",
    "\n",
    "cycle_2 = []                                       #an empty list that will have values added after running the loop below\n",
    "\n",
    "for (i,j) in G.edges:                              #creates two variables i and j from within the edges. i being the node and j being the vertex\n",
    "    G.edges[(i,j)][\"visited\"] = False              #initializes all edges as \"not visited\".\n",
    "    \n",
    "for (i,j) in G.edges:                              #creates two variables i and j from within the edges. i being the node and j being the vertex\n",
    "    if G.edges[(i,j)][\"visited\"] == True: \n",
    "        continue                                   #if an edge has already been checked, skip and continue the iteration\n",
    "    if (j,i) in G.edges:                           #for every edge (i,j), if there is also an edge from (j,i) \n",
    "        cycle_2.append((i,j))                      #adds cycle to list in the form i,j which shows the loop. \n",
    "        G.edges[(j,i)][\"visited\"] = True           #marks edge as visited so it is not checked again. \n",
    "        G.edges[(i,j)][\"visited\"] = True           #marks edge as visited so it is not checked again.\n",
    "            \n",
    "print(\"Total cycles of length 2:\", len(cycle_2))   #prints the total number of cycles of 2 generated from the loop above. The loop prevents any duplicates. (0,1,0) and (1,0,1) are the same cycle"
   ]
  },
  {
   "cell_type": "code",
   "execution_count": 111,
   "id": "cd44bb34-548c-4529-9326-e5b620d0e2dc",
   "metadata": {},
   "outputs": [
    {
     "name": "stdout",
     "output_type": "stream",
     "text": [
      "Gurobi Optimizer version 11.0.3 build v11.0.3rc0 (win64 - Windows 11+.0 (26100.2))\n",
      "\n",
      "CPU model: 12th Gen Intel(R) Core(TM) i7-1255U, instruction set [SSE2|AVX|AVX2]\n",
      "Thread count: 10 physical cores, 12 logical processors, using up to 12 threads\n",
      "\n",
      "Optimize a model with 729 rows, 34221 columns and 68442 nonzeros\n",
      "Model fingerprint: 0x3c00fdf7\n",
      "Variable types: 0 continuous, 34221 integer (34221 binary)\n",
      "Coefficient statistics:\n",
      "  Matrix range     [1e+00, 1e+00]\n",
      "  Objective range  [1e+00, 1e+00]\n",
      "  Bounds range     [1e+00, 1e+00]\n",
      "  RHS range        [1e+00, 1e+00]\n",
      "Found heuristic solution: objective 183.0000000\n",
      "Presolve removed 359 rows and 0 columns\n",
      "Presolve time: 0.21s\n",
      "Presolved: 370 rows, 34221 columns, 68442 nonzeros\n",
      "Variable types: 0 continuous, 34221 integer (34221 binary)\n",
      "\n",
      "Starting sifting (using dual simplex for sub-problems)...\n",
      "\n",
      "    Iter     Pivots    Primal Obj      Dual Obj        Time\n",
      "       0          0     infinity     -3.6900000e+02      0s\n",
      "       1        474  -1.0000000e+01  -1.8750000e+02      1s\n",
      "\n",
      "Sifting complete\n",
      "\n",
      "\n",
      "Root relaxation: cutoff, 1266 iterations, 0.13 seconds (0.03 work units)\n",
      "\n",
      "    Nodes    |    Current Node    |     Objective Bounds      |     Work\n",
      " Expl Unexpl |  Obj  Depth IntInf | Incumbent    BestBd   Gap | It/Node Time\n",
      "\n",
      "     0     0     cutoff    0       183.00000  183.00000  0.00%     -    0s\n",
      "\n",
      "Explored 1 nodes (1266 simplex iterations) in 0.61 seconds (0.17 work units)\n",
      "Thread count was 12 (of 12 available processors)\n",
      "\n",
      "Solution count 1: 183 \n",
      "\n",
      "Optimal solution found (tolerance 1.00e-04)\n",
      "Best objective 1.830000000000e+02, best bound 1.830000000000e+02, gap 0.0000%\n",
      "Optimal edges in cycles of length 2: [(0, 3), (2, 5), (6, 8), (10, 12), (13, 34), (18, 39), (19, 41), (22, 44), (26, 45), (27, 53), (28, 54), (29, 56), (38, 57), (40, 58), (50, 64), (55, 70), (60, 71), (61, 72), (68, 76), (69, 84), (75, 92), (77, 96), (82, 97), (85, 109), (87, 123), (90, 133), (91, 137), (93, 142), (102, 144), (104, 147), (106, 150), (110, 151), (114, 153), (115, 154), (118, 167), (120, 174), (121, 175), (125, 188), (131, 198), (135, 199), (139, 200), (156, 201), (158, 203), (166, 204), (171, 208), (173, 210), (179, 214), (180, 215), (183, 220), (184, 221), (185, 222), (189, 223), (190, 226), (202, 230), (217, 231), (219, 234), (224, 242), (228, 247), (232, 248), (235, 252), (239, 255), (241, 259), (244, 260), (246, 261), (249, 262), (253, 264), (269, 271), (270, 273), (274, 275), (276, 278), (281, 282), (283, 284), (286, 290), (287, 294), (291, 297), (295, 305), (300, 309), (301, 315), (303, 317), (312, 319), (314, 322), (321, 325), (324, 326), (327, 331), (329, 333), (330, 337), (339, 341), (340, 342), (347, 355), (353, 356), (357, 358), (360, 363), (364, 368), (365, 370), (371, 374), (377, 379), (378, 382), (383, 385), (384, 386), (387, 389), (388, 391), (392, 394), (395, 397), (398, 402), (399, 413), (400, 426), (401, 427), (410, 429), (412, 439), (416, 442), (423, 446), (430, 449), (436, 451), (440, 458), (452, 461), (454, 462), (456, 463), (464, 465), (466, 470), (468, 471), (472, 475), (477, 483), (481, 486), (488, 492), (493, 494), (497, 500), (503, 512), (508, 518), (513, 520), (514, 526), (516, 538), (528, 541), (529, 546), (531, 551), (532, 557), (533, 560), (537, 562), (539, 564), (542, 565), (544, 568), (545, 573), (548, 576), (553, 581), (563, 582), (572, 590), (578, 591), (585, 595), (587, 596), (588, 599), (593, 608), (600, 609), (602, 613), (603, 614), (605, 619), (610, 620), (618, 622), (624, 625), (626, 633), (632, 636), (634, 638), (635, 643), (637, 644), (645, 650), (646, 653), (647, 656), (649, 660), (655, 665), (657, 669), (658, 675), (666, 676), (668, 677), (672, 678), (673, 679), (684, 686), (685, 690), (687, 692), (693, 699), (705, 707), (709, 711), (710, 715), (712, 717), (713, 718), (714, 719)]\n"
     ]
    }
   ],
   "source": [
    "import gurobipy as gp\n",
    "from gurobipy import GRB\n",
    "\n",
    "# Create model object\n",
    "m = gp.Model()\n",
    "\n",
    "# Create a binary variable for each edge in cycle_2\n",
    "x = m.addVars(cycle_2, vtype=GRB.BINARY)\n",
    "\n",
    "# Objective function: maximize the number of 2-cycles selected\n",
    "m.setObjective(gp.quicksum(x[e] for e in cycle_2), GRB.MAXIMIZE)\n",
    "\n",
    "# Constraint to ensure each node is part of at most one 2-cycle\n",
    "for v in G.nodes:\n",
    "    m.addConstr(gp.quicksum(x[(i,j)] for (i,j) in cycle_2 if v in (i,j)) <=1) #only one constraint since we already isolated the cycles of 2 from all the edges created\n",
    "\n",
    "# Optimize the model\n",
    "m.optimize()\n",
    "\n",
    "# Extract the optimal edges in cycles of length 2 or note that no optimal soulution was found. Needed a check step to ensure optimization was working or not.\n",
    "if m.status == GRB.OPTIMAL:\n",
    "    selected_edges = [e for e in cycle_2 if x[e].x > 0.5]\n",
    "    print(\"Optimal edges in cycles of length 2:\", selected_edges)\n",
    "else:\n",
    "    print(\"No optimal solution found.\")"
   ]
  },
  {
   "cell_type": "code",
   "execution_count": null,
   "id": "172bc32e-e7c3-4089-83c3-d8e7a3a44116",
   "metadata": {},
   "outputs": [],
   "source": [
    "# #<---------------------- Visualize the cycles of length 2 in a circular graph not needed for large data set------------>\n",
    "# H = nx.DiGraph()\n",
    "# H.add_nodes_from(G.nodes)\n",
    "\n",
    "# for (i,j) in selected_edges:\n",
    "#     H.add_edge(i,j)\n",
    "#     H.add_edge(j,i)\n",
    "\n",
    "# plt.figure(figsize=(10, 10))\n",
    "# pos = nx.circular_layout(H)\n",
    "# # edge_colors = ['red' for (u, v) in selected_edges]\n",
    "\n",
    "# nx.draw(H, pos, with_labels=True, node_color='skyblue', node_size=500,edge_color='gray', font_size=10, font_weight='bold', width=2, connectionstyle=\"arc3,rad=0.1\")\n",
    "\n",
    "# plt.title(\"Optimized Cycles of Length 2\")\n",
    "# plt.show()\n",
    "# #<---------------------- Visualize the cycles of length 2 in a circular graph not needed for large data set------------>"
   ]
  },
  {
   "cell_type": "code",
   "execution_count": 24,
   "id": "df5835da-5580-450f-bc01-fca1d42cfb44",
   "metadata": {},
   "outputs": [
    {
     "name": "stdout",
     "output_type": "stream",
     "text": [
      "Cycles of length 3: 321\n"
     ]
    }
   ],
   "source": [
    "#Finding Cycles of 3\n",
    "\n",
    "cycle_3 = []                                                                   # An empty list to store cycles of length 3\n",
    "\n",
    "# Initialize all edges as \"not visited\"\n",
    "for (i, j) in G.edges:\n",
    "    G.edges[(i, j)][\"visited\"] = False\n",
    "\n",
    "# Detect cycles of length 3\n",
    "for (i, j) in G.edges:\n",
    "    if G.edges[(i, j)][\"visited\"]:\n",
    "        continue                                                               # Skip if already visited\n",
    "    for k in G.successors(j):                                                  # Iterate over successors of j\n",
    "        if k == i or G.edges[(j, k)][\"visited\"]:                               # Checks if node k is equal to node i or edge j,k has already been visited\n",
    "            continue                                                           # Skip if k is i or edge (j, k) is visited\n",
    "        if (k, i) in G.edges and not G.edges[(k, i)][\"visited\"]:               # If edge k,i exists and has not already been visited\n",
    "            cycle_3.append((i, j, k))  # Add the cycle (i, j, k)               # add cycle of 3 to the empty list\n",
    "            G.edges[(i, j)][\"visited\"] = True                                  # update edge i,j to visited\n",
    "            G.edges[(j, k)][\"visited\"] = True                                  # update edge j,k to visited\n",
    "            G.edges[(k, i)][\"visited\"] = True                                  # update edge k,i to visited\n",
    "\n",
    "print(\"Total possible cycles of length 3:\", len(cycle_3))                      # prints the total possible cycles"
   ]
  },
  {
   "cell_type": "code",
   "execution_count": 112,
   "id": "9174bcb7-d8c7-4283-8732-f4770d3d2cd6",
   "metadata": {},
   "outputs": [
    {
     "name": "stdout",
     "output_type": "stream",
     "text": [
      "Gurobi Optimizer version 11.0.3 build v11.0.3rc0 (win64 - Windows 11+.0 (26100.2))\n",
      "\n",
      "CPU model: 12th Gen Intel(R) Core(TM) i7-1255U, instruction set [SSE2|AVX|AVX2]\n",
      "Thread count: 10 physical cores, 12 logical processors, using up to 12 threads\n",
      "\n",
      "Optimize a model with 729 rows, 321 columns and 963 nonzeros\n",
      "Model fingerprint: 0x6f17751f\n",
      "Variable types: 0 continuous, 321 integer (321 binary)\n",
      "Coefficient statistics:\n",
      "  Matrix range     [1e+00, 1e+00]\n",
      "  Objective range  [1e+00, 1e+00]\n",
      "  Bounds range     [1e+00, 1e+00]\n",
      "  RHS range        [1e+00, 1e+00]\n",
      "Found heuristic solution: objective 11.0000000\n",
      "Presolve removed 681 rows and 12 columns\n",
      "Presolve time: 0.06s\n",
      "Presolved: 48 rows, 309 columns, 933 nonzeros\n",
      "Found heuristic solution: objective 11.0000000\n",
      "Variable types: 0 continuous, 309 integer (309 binary)\n",
      "\n",
      "Root relaxation: objective 1.400000e+01, 161 iterations, 0.02 seconds (0.00 work units)\n",
      "\n",
      "    Nodes    |    Current Node    |     Objective Bounds      |     Work\n",
      " Expl Unexpl |  Obj  Depth IntInf | Incumbent    BestBd   Gap | It/Node Time\n",
      "\n",
      "H    0     0                      14.0000000  309.00000  2107%     -    0s\n",
      "     0     0          -    0        14.00000   14.00000  0.00%     -    0s\n",
      "\n",
      "Explored 1 nodes (250 simplex iterations) in 0.31 seconds (0.01 work units)\n",
      "Thread count was 12 (of 12 available processors)\n",
      "\n",
      "Solution count 3: 14 11 11 \n",
      "\n",
      "Optimal solution found (tolerance 1.00e-04)\n",
      "Best objective 1.400000000000e+01, best bound 1.400000000000e+01, gap 0.0000%\n",
      "Optimal cycles of length 3: [(0, 11, 25), (1, 2, 13), (3, 10, 36), (4, 12, 22), (5, 9, 16), (6, 43, 38), (8, 15, 41), (17, 18, 32), (20, 31, 46), (21, 27, 28), (23, 40, 26), (24, 39, 42), (29, 35, 45), (30, 34, 47)]\n"
     ]
    }
   ],
   "source": [
    "#Optimization for Cycles of 3\n",
    "\n",
    "import gurobipy as gp\n",
    "from gurobipy import GRB\n",
    "\n",
    "# Create model object\n",
    "m = gp.Model()\n",
    "\n",
    "# Create a binary variable for each edge in cycle_3\n",
    "x = m.addVars(cycle_3, vtype=GRB.BINARY)\n",
    "\n",
    "# Objective function: maximize the number of 3-cycles selected\n",
    "m.setObjective(gp.quicksum(x[e] for e in cycle_3), GRB.MAXIMIZE)\n",
    "\n",
    "# Constraints to ensure each node is part of at most one 3-cycle since we have already isolated the possible cycles of 3 in previous steps\n",
    "for v in G.nodes:\n",
    "    m.addConstr(gp.quicksum(x[(i,j,k)] for (i,j,k) in cycle_3 if v in (i,j,k)) <=1)\n",
    "\n",
    "# Optimize the model\n",
    "m.optimize()\n",
    "\n",
    "# Extract the optimal edges in cycles of length 2. A check to ensure answer is optimalor infeasible\n",
    "if m.status == GRB.OPTIMAL:\n",
    "    selected_edges = [e for e in cycle_3 if x[e].x > 0.5]\n",
    "    print(\"Optimal cycles of length 3:\", selected_edges)\n",
    "else:\n",
    "    print(\"No optimal solution found.\")"
   ]
  },
  {
   "cell_type": "code",
   "execution_count": null,
   "id": "5285e924-6d36-43ab-8a6f-c063e65708aa",
   "metadata": {},
   "outputs": [],
   "source": [
    "# #<---------------------- Visualize the cycles of length 3 in a circular graph NOTE: large data set would not be easily seen------------>\n",
    "# H = nx.DiGraph()\n",
    "# H.add_nodes_from(G.nodes)\n",
    "\n",
    "# for (i,j,k) in selected_edges:\n",
    "#     H.add_edge(i,j)\n",
    "#     H.add_edge(j,k)\n",
    "#     H.add_edge(k,i)\n",
    "\n",
    "# plt.figure(figsize=(100, 100))\n",
    "# pos = nx.circular_layout(H)\n",
    "\n",
    "# nx.draw(H, pos, with_labels=True, node_color='skyblue', node_size=500,edge_color='gray', font_size=10, font_weight='bold', width=2, connectionstyle=\"arc3,rad=0.01\")\n",
    "\n",
    "# plt.title(\"Optimized Cycles of Length 3\")\n",
    "# plt.show()\n",
    "# #<---------------------- Visualize the cycles of length 3 in a circular graph NOTE: large data set would not be easily seen------------>"
   ]
  },
  {
   "cell_type": "code",
   "execution_count": null,
   "id": "671dc3f0-e9d8-4af1-9d63-487aeaa01a96",
   "metadata": {},
   "outputs": [],
   "source": []
  }
 ],
 "metadata": {
  "kernelspec": {
   "display_name": "Python 3 (ipykernel)",
   "language": "python",
   "name": "python3"
  },
  "language_info": {
   "codemirror_mode": {
    "name": "ipython",
    "version": 3
   },
   "file_extension": ".py",
   "mimetype": "text/x-python",
   "name": "python",
   "nbconvert_exporter": "python",
   "pygments_lexer": "ipython3",
   "version": "3.12.4"
  },
  "panel-cell-order": [
   "140a2a24-64da-4a28-b776-f568f95fd4c4"
  ]
 },
 "nbformat": 4,
 "nbformat_minor": 5
}
